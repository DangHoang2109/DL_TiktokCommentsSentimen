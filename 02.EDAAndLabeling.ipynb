{
 "cells": [
  {
   "cell_type": "code",
   "execution_count": 1,
   "metadata": {},
   "outputs": [],
   "source": [
    "import pandas as pd"
   ]
  },
  {
   "cell_type": "code",
   "execution_count": 3,
   "metadata": {},
   "outputs": [
    {
     "name": "stdout",
     "output_type": "stream",
     "text": [
      "51\n"
     ]
    },
    {
     "data": {
      "text/plain": [
       "['rawdata_100.csv',\n",
       " 'rawdata_101.csv',\n",
       " 'rawdata_51.csv',\n",
       " 'rawdata_52.csv',\n",
       " 'rawdata_53.csv',\n",
       " 'rawdata_54.csv',\n",
       " 'rawdata_55.csv',\n",
       " 'rawdata_56.csv',\n",
       " 'rawdata_57.csv',\n",
       " 'rawdata_58.csv',\n",
       " 'rawdata_59.csv',\n",
       " 'rawdata_60.csv',\n",
       " 'rawdata_61.csv',\n",
       " 'rawdata_62.csv',\n",
       " 'rawdata_63.csv',\n",
       " 'rawdata_64.csv',\n",
       " 'rawdata_65.csv',\n",
       " 'rawdata_66.csv',\n",
       " 'rawdata_67.csv',\n",
       " 'rawdata_68.csv',\n",
       " 'rawdata_69.csv',\n",
       " 'rawdata_70.csv',\n",
       " 'rawdata_71.csv',\n",
       " 'rawdata_72.csv',\n",
       " 'rawdata_73.csv',\n",
       " 'rawdata_74.csv',\n",
       " 'rawdata_75.csv',\n",
       " 'rawdata_76.csv',\n",
       " 'rawdata_77.csv',\n",
       " 'rawdata_78.csv',\n",
       " 'rawdata_79.csv',\n",
       " 'rawdata_80.csv',\n",
       " 'rawdata_81.csv',\n",
       " 'rawdata_82.csv',\n",
       " 'rawdata_83.csv',\n",
       " 'rawdata_84.csv',\n",
       " 'rawdata_85.csv',\n",
       " 'rawdata_86.csv',\n",
       " 'rawdata_87.csv',\n",
       " 'rawdata_88.csv',\n",
       " 'rawdata_89.csv',\n",
       " 'rawdata_90.csv',\n",
       " 'rawdata_91.csv',\n",
       " 'rawdata_92.csv',\n",
       " 'rawdata_93.csv',\n",
       " 'rawdata_94.csv',\n",
       " 'rawdata_95.csv',\n",
       " 'rawdata_96.csv',\n",
       " 'rawdata_97.csv',\n",
       " 'rawdata_98.csv',\n",
       " 'rawdata_99.csv']"
      ]
     },
     "execution_count": 3,
     "metadata": {},
     "output_type": "execute_result"
    }
   ],
   "source": [
    "import os\n",
    "def list_csv_files(directory_path):\n",
    "    try:\n",
    "        # List all files in the directory\n",
    "        all_files = os.listdir(directory_path)\n",
    "        \n",
    "        # Filter out files that end with .csv\n",
    "        csv_files = [f for f in all_files if f.endswith('.csv')]\n",
    "        \n",
    "        return csv_files\n",
    "    except Exception as e:\n",
    "        return str(e)\n",
    "    \n",
    "chunk = list_csv_files(\"Dataset/New\")\n",
    "print(len(chunk))\n",
    "chunk"
   ]
  },
  {
   "cell_type": "code",
   "execution_count": 5,
   "metadata": {},
   "outputs": [
    {
     "name": "stdout",
     "output_type": "stream",
     "text": [
      "(2467, 2)\n"
     ]
    },
    {
     "data": {
      "text/html": [
       "<div>\n",
       "<style scoped>\n",
       "    .dataframe tbody tr th:only-of-type {\n",
       "        vertical-align: middle;\n",
       "    }\n",
       "\n",
       "    .dataframe tbody tr th {\n",
       "        vertical-align: top;\n",
       "    }\n",
       "\n",
       "    .dataframe thead th {\n",
       "        text-align: right;\n",
       "    }\n",
       "</style>\n",
       "<table border=\"1\" class=\"dataframe\">\n",
       "  <thead>\n",
       "    <tr style=\"text-align: right;\">\n",
       "      <th></th>\n",
       "      <th>User ID</th>\n",
       "      <th>Comment</th>\n",
       "    </tr>\n",
       "  </thead>\n",
       "  <tbody>\n",
       "    <tr>\n",
       "      <th>0</th>\n",
       "      <td>userID</td>\n",
       "      <td>admin cho em theo với</td>\n",
       "    </tr>\n",
       "    <tr>\n",
       "      <th>1</th>\n",
       "      <td>userID</td>\n",
       "      <td>Các ông cứ chém! Thế nào cũng phải đc gặp gỡ, ...</td>\n",
       "    </tr>\n",
       "    <tr>\n",
       "      <th>2</th>\n",
       "      <td>userID</td>\n",
       "      <td>vụ này bh VNI thì phải 😬</td>\n",
       "    </tr>\n",
       "    <tr>\n",
       "      <th>3</th>\n",
       "      <td>userID</td>\n",
       "      <td>vãi</td>\n",
       "    </tr>\n",
       "    <tr>\n",
       "      <th>4</th>\n",
       "      <td>userID</td>\n",
       "      <td>Các ông cứ chém! Thế nào cũng phải đc gặp gỡ, ...</td>\n",
       "    </tr>\n",
       "  </tbody>\n",
       "</table>\n",
       "</div>"
      ],
      "text/plain": [
       "  User ID                                            Comment\n",
       "0  userID                              admin cho em theo với\n",
       "1  userID  Các ông cứ chém! Thế nào cũng phải đc gặp gỡ, ...\n",
       "2  userID                           vụ này bh VNI thì phải 😬\n",
       "3  userID                                                vãi\n",
       "4  userID  Các ông cứ chém! Thế nào cũng phải đc gặp gỡ, ..."
      ]
     },
     "execution_count": 5,
     "metadata": {},
     "output_type": "execute_result"
    }
   ],
   "source": [
    "import pandas as pd\n",
    "\n",
    "# Load the dataset\n",
    "listDf = []\n",
    "\n",
    "for c in chunk:\n",
    "    file_path = f\"Dataset/New/{c}\"\n",
    "    temp_df = pd.read_csv(file_path)\n",
    "    listDf.append(temp_df)\n",
    "\n",
    "df = pd.concat(listDf, ignore_index=True)\n",
    "\n",
    "# Display the first few rows of the dataframe\n",
    "print(df.shape)\n",
    "df.head()\n",
    "\n"
   ]
  },
  {
   "cell_type": "code",
   "execution_count": 6,
   "metadata": {},
   "outputs": [],
   "source": [
    "#save df\n",
    "df.to_csv(\"Dataset_New.csv\", index=False, encoding='utf-8-sig')"
   ]
  }
 ],
 "metadata": {
  "kernelspec": {
   "display_name": "tiktokstreaming",
   "language": "python",
   "name": "python3"
  },
  "language_info": {
   "codemirror_mode": {
    "name": "ipython",
    "version": 3
   },
   "file_extension": ".py",
   "mimetype": "text/x-python",
   "name": "python",
   "nbconvert_exporter": "python",
   "pygments_lexer": "ipython3",
   "version": "3.9.13"
  }
 },
 "nbformat": 4,
 "nbformat_minor": 2
}
